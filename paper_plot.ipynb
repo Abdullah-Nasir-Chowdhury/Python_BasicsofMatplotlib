{
 "cells": [
  {
   "cell_type": "code",
   "execution_count": 1,
   "metadata": {},
   "outputs": [],
   "source": [
    "from matplotlib import pyplot as plt"
   ]
  },
  {
   "cell_type": "code",
   "execution_count": 1,
   "metadata": {},
   "outputs": [],
   "source": [
    "x = ['Front View', 'Rear View', 'Front Tilted View', 'Rear Tilted View',\n",
    "     'Front Top View', 'Rear Top View', 'Front Top Annotated View', 'Rear Top Annotated View',\n",
    "     'Reflecting Plates', 'Night View', 'Blurred Images', 'Dirty Images',\n",
    "     'Uneven Light Distribution', 'Scratched Out Characters', 'Color Variance',\n",
    "     'Several plates in single instance', 'Rickshaw Plates']\n",
    "y = [0.98, 0.984, 0.96, 0.964, 0.97, 0.97, 0.956, 0.95, 0.955, 0.96, 0.95, 0.954, 0.97, 0.25, 0.98, 0,25, 0]\n",
    "z = [250,150,125,125,110,110,115,115,105,140,60,14,15,4,20,16,5]"
   ]
  },
  {
   "cell_type": "code",
   "execution_count": null,
   "metadata": {},
   "outputs": [],
   "source": [
    "plt.scatter(y,z)\n",
    "plt.show()"
   ]
  }
 ],
 "metadata": {
  "kernelspec": {
   "display_name": "Python 3",
   "language": "python",
   "name": "python3"
  },
  "language_info": {
   "codemirror_mode": {
    "name": "ipython",
    "version": 3
   },
   "file_extension": ".py",
   "mimetype": "text/x-python",
   "name": "python",
   "nbconvert_exporter": "python",
   "pygments_lexer": "ipython3",
   "version": "3.11.6"
  }
 },
 "nbformat": 4,
 "nbformat_minor": 2
}
